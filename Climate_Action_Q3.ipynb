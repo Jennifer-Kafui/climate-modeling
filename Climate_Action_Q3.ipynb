{
  "nbformat": 4,
  "nbformat_minor": 0,
  "metadata": {
    "colab": {
      "provenance": [],
      "authorship_tag": "ABX9TyOCmW9rfNSNcbHEeg8t9DhC",
      "include_colab_link": true
    },
    "kernelspec": {
      "name": "python3",
      "display_name": "Python 3"
    },
    "language_info": {
      "name": "python"
    }
  },
  "cells": [
    {
      "cell_type": "markdown",
      "metadata": {
        "id": "view-in-github",
        "colab_type": "text"
      },
      "source": [
        "<a href=\"https://colab.research.google.com/github/Jennifer-Kafui/climate-modeling/blob/main/Climate_Action_Q3.ipynb\" target=\"_parent\"><img src=\"https://colab.research.google.com/assets/colab-badge.svg\" alt=\"Open In Colab\"/></a>"
      ]
    },
    {
      "cell_type": "markdown",
      "source": [
        "Question 3 , Making computing mistakes"
      ],
      "metadata": {
        "id": "WaICPU9hpqW0"
      }
    },
    {
      "cell_type": "code",
      "source": [
        "#importing package(s) and create aliases\n",
        "\n",
        "import numpy as np\n",
        "#numpy is a core package for numerical arrays and linear algebra\n",
        "\n",
        "from numpy import array\n",
        "#array helps to build numpy arrays from python\n",
        "\n",
        "from numpy.linalg import inv as inv\n",
        "# to help in linear algebra calculations like inverse , transpose"
      ],
      "metadata": {
        "id": "lSZFajVfpxAS"
      },
      "execution_count": 1,
      "outputs": []
    },
    {
      "cell_type": "markdown",
      "source": [
        "Creating Arrays and Performing Math on them"
      ],
      "metadata": {
        "id": "je7RiGpZqxtM"
      }
    },
    {
      "cell_type": "code",
      "source": [
        "# This is a normal list and not suited for our linear algebra calulations\n",
        "\n",
        "a1 = [5,8, 13]\n",
        "a1"
      ],
      "metadata": {
        "colab": {
          "base_uri": "https://localhost:8080/"
        },
        "id": "I9J2ODJIq3ed",
        "outputId": "c20da527-3f92-4ef2-cbac-5e7ddcd7db0e"
      },
      "execution_count": 2,
      "outputs": [
        {
          "output_type": "execute_result",
          "data": {
            "text/plain": [
              "[5, 8, 13]"
            ]
          },
          "metadata": {},
          "execution_count": 2
        }
      ]
    },
    {
      "cell_type": "code",
      "source": [
        "#This is not a matrix\n",
        "\n",
        "a2 = array([5, 8, 13])\n",
        "a2"
      ],
      "metadata": {
        "colab": {
          "base_uri": "https://localhost:8080/"
        },
        "id": "LwuF42H7uZDL",
        "outputId": "3aba5830-8e09-42b7-d2a1-27e759bd5552"
      },
      "execution_count": 3,
      "outputs": [
        {
          "output_type": "execute_result",
          "data": {
            "text/plain": [
              "array([ 5,  8, 13])"
            ]
          },
          "metadata": {},
          "execution_count": 3
        }
      ]
    },
    {
      "cell_type": "code",
      "source": [
        "a = array([[5, 8, 13]])\n",
        "a"
      ],
      "metadata": {
        "colab": {
          "base_uri": "https://localhost:8080/"
        },
        "id": "SNeEDNcruq3S",
        "outputId": "03e2f0ed-606e-4543-b9a2-19d0980e61db"
      },
      "execution_count": 4,
      "outputs": [
        {
          "output_type": "execute_result",
          "data": {
            "text/plain": [
              "array([[ 5,  8, 13]])"
            ]
          },
          "metadata": {},
          "execution_count": 4
        }
      ]
    },
    {
      "cell_type": "markdown",
      "source": [
        "Transpose"
      ],
      "metadata": {
        "id": "5sylel6Uuz8h"
      }
    },
    {
      "cell_type": "code",
      "source": [
        "# .T on a Python list it won't work, works on only 2D array\n",
        "# b1 = a1.T\n",
        "#b1"
      ],
      "metadata": {
        "id": "PsbwYITRu1R7"
      },
      "execution_count": 5,
      "outputs": []
    },
    {
      "cell_type": "code",
      "source": [
        "#.T on a 1D array returns the same array (no actual transpose happens)\n",
        "b2 = a2.T\n",
        "b2"
      ],
      "metadata": {
        "colab": {
          "base_uri": "https://localhost:8080/"
        },
        "id": "UW6FORdJvINI",
        "outputId": "135c673f-37b0-4f81-ee6d-121d39ecbeea"
      },
      "execution_count": 6,
      "outputs": [
        {
          "output_type": "execute_result",
          "data": {
            "text/plain": [
              "array([ 5,  8, 13])"
            ]
          },
          "metadata": {},
          "execution_count": 6
        }
      ]
    },
    {
      "cell_type": "code",
      "source": [
        "# The is the right transpose\n",
        "b = a.T\n",
        "b"
      ],
      "metadata": {
        "colab": {
          "base_uri": "https://localhost:8080/"
        },
        "id": "Fkh9TyvfvUP-",
        "outputId": "89e0b194-56d9-434a-9f3a-7ab98e1c7739"
      },
      "execution_count": 7,
      "outputs": [
        {
          "output_type": "execute_result",
          "data": {
            "text/plain": [
              "array([[ 5],\n",
              "       [ 8],\n",
              "       [13]])"
            ]
          },
          "metadata": {},
          "execution_count": 7
        }
      ]
    },
    {
      "cell_type": "markdown",
      "source": [
        "Matrix Operations"
      ],
      "metadata": {
        "id": "P_xuFNMtvnFc"
      }
    },
    {
      "cell_type": "code",
      "source": [
        "# Multiplying a list by 2 repeats it\n",
        "c1 = a1 * 2\n",
        "c1"
      ],
      "metadata": {
        "colab": {
          "base_uri": "https://localhost:8080/"
        },
        "id": "tUcALYWMvojc",
        "outputId": "9442a455-e317-40ad-a213-5868d6d8b7d5"
      },
      "execution_count": 8,
      "outputs": [
        {
          "output_type": "execute_result",
          "data": {
            "text/plain": [
              "[5, 8, 13, 5, 8, 13]"
            ]
          },
          "metadata": {},
          "execution_count": 8
        }
      ]
    },
    {
      "cell_type": "code",
      "source": [
        "# Multiplies the array by 2\n",
        "c2 = a2 * 2\n",
        "c2"
      ],
      "metadata": {
        "colab": {
          "base_uri": "https://localhost:8080/"
        },
        "id": "XTlJu3f1vvlL",
        "outputId": "607eec54-d194-483d-d87e-417f564fde1c"
      },
      "execution_count": 9,
      "outputs": [
        {
          "output_type": "execute_result",
          "data": {
            "text/plain": [
              "array([10, 16, 26])"
            ]
          },
          "metadata": {},
          "execution_count": 9
        }
      ]
    },
    {
      "cell_type": "code",
      "source": [
        "# Also multiplies the array by 2\n",
        "c = a * 2\n",
        "c"
      ],
      "metadata": {
        "colab": {
          "base_uri": "https://localhost:8080/"
        },
        "id": "hqTdn1lSwC7_",
        "outputId": "0f897a17-2494-40f3-d9d8-b415db929a0d"
      },
      "execution_count": 10,
      "outputs": [
        {
          "output_type": "execute_result",
          "data": {
            "text/plain": [
              "array([[10, 16, 26]])"
            ]
          },
          "metadata": {},
          "execution_count": 10
        }
      ]
    },
    {
      "cell_type": "code",
      "source": [
        "# Also multiplies the array by 11\n",
        "#x = array ([9,8,7]) * array(11)\n",
        "x = array([9, 8, 7]) * 11\n",
        "x"
      ],
      "metadata": {
        "colab": {
          "base_uri": "https://localhost:8080/"
        },
        "id": "db7tTEefww3D",
        "outputId": "3398a981-725a-42e5-aab9-9dffb6c7fdea"
      },
      "execution_count": 11,
      "outputs": [
        {
          "output_type": "execute_result",
          "data": {
            "text/plain": [
              "array([99, 88, 77])"
            ]
          },
          "metadata": {},
          "execution_count": 11
        }
      ]
    },
    {
      "cell_type": "code",
      "source": [
        "# Python uses ** for exponentiation\n",
        "# x = b ^ 3\n",
        "d = b ** 3\n",
        "d\n"
      ],
      "metadata": {
        "colab": {
          "base_uri": "https://localhost:8080/"
        },
        "id": "FaiPe5gTxFfo",
        "outputId": "77c74ce5-48d3-4797-ce99-3229f7a615e5"
      },
      "execution_count": 12,
      "outputs": [
        {
          "output_type": "execute_result",
          "data": {
            "text/plain": [
              "array([[ 125],\n",
              "       [ 512],\n",
              "       [2197]])"
            ]
          },
          "metadata": {},
          "execution_count": 12
        }
      ]
    },
    {
      "cell_type": "code",
      "source": [
        "p1 = a * b\n",
        "p1"
      ],
      "metadata": {
        "colab": {
          "base_uri": "https://localhost:8080/"
        },
        "id": "flT5BxhpxXIR",
        "outputId": "96e2dc37-5d10-4dd1-d4f7-c47e895d64e2"
      },
      "execution_count": 13,
      "outputs": [
        {
          "output_type": "execute_result",
          "data": {
            "text/plain": [
              "array([[ 25,  40,  65],\n",
              "       [ 40,  64, 104],\n",
              "       [ 65, 104, 169]])"
            ]
          },
          "metadata": {},
          "execution_count": 13
        }
      ]
    },
    {
      "cell_type": "code",
      "source": [
        "p2 = a * b.T\n",
        "p2"
      ],
      "metadata": {
        "colab": {
          "base_uri": "https://localhost:8080/"
        },
        "id": "3xGFh2VQxqSU",
        "outputId": "ba43d36e-bba8-43e8-b731-02ded9678d9f"
      },
      "execution_count": 14,
      "outputs": [
        {
          "output_type": "execute_result",
          "data": {
            "text/plain": [
              "array([[ 25,  64, 169]])"
            ]
          },
          "metadata": {},
          "execution_count": 14
        }
      ]
    },
    {
      "cell_type": "code",
      "source": [
        "p3 = a.T * b\n",
        "p3"
      ],
      "metadata": {
        "colab": {
          "base_uri": "https://localhost:8080/"
        },
        "id": "JrJs2jNbxwZN",
        "outputId": "801c6174-a610-43b0-92b6-3b23cd5cde1c"
      },
      "execution_count": 15,
      "outputs": [
        {
          "output_type": "execute_result",
          "data": {
            "text/plain": [
              "array([[ 25],\n",
              "       [ 64],\n",
              "       [169]])"
            ]
          },
          "metadata": {},
          "execution_count": 15
        }
      ]
    },
    {
      "cell_type": "code",
      "source": [
        "p4 = a @ b\n",
        "p4"
      ],
      "metadata": {
        "colab": {
          "base_uri": "https://localhost:8080/"
        },
        "id": "yKUjyBMXx332",
        "outputId": "07218b30-8a62-4125-a409-17a461476382"
      },
      "execution_count": 16,
      "outputs": [
        {
          "output_type": "execute_result",
          "data": {
            "text/plain": [
              "array([[258]])"
            ]
          },
          "metadata": {},
          "execution_count": 16
        }
      ]
    },
    {
      "cell_type": "code",
      "source": [
        "# Dimension mismatch\n",
        "#p5 = a @ b.T\n",
        "#p5"
      ],
      "metadata": {
        "id": "ug9dZb8Yx9um"
      },
      "execution_count": 17,
      "outputs": []
    },
    {
      "cell_type": "code",
      "source": [
        "# Dimension mismatch\n",
        "#p6 = a.T @ b\n",
        "#p6"
      ],
      "metadata": {
        "id": "ECgVNkclyk_W"
      },
      "execution_count": 18,
      "outputs": []
    },
    {
      "cell_type": "code",
      "source": [
        "p7 = a.T @ b.T\n",
        "p7"
      ],
      "metadata": {
        "colab": {
          "base_uri": "https://localhost:8080/"
        },
        "id": "W9Nci7DtyyCx",
        "outputId": "6860be92-ef71-4e34-9750-79ac62bc5366"
      },
      "execution_count": 19,
      "outputs": [
        {
          "output_type": "execute_result",
          "data": {
            "text/plain": [
              "array([[ 25,  40,  65],\n",
              "       [ 40,  64, 104],\n",
              "       [ 65, 104, 169]])"
            ]
          },
          "metadata": {},
          "execution_count": 19
        }
      ]
    },
    {
      "cell_type": "code",
      "source": [
        "p8 = a2 @ b2\n",
        "p8"
      ],
      "metadata": {
        "colab": {
          "base_uri": "https://localhost:8080/"
        },
        "id": "DApygg-0y2l5",
        "outputId": "5756b594-b523-46ee-88d7-b0dc95109d84"
      },
      "execution_count": 20,
      "outputs": [
        {
          "output_type": "execute_result",
          "data": {
            "text/plain": [
              "np.int64(258)"
            ]
          },
          "metadata": {},
          "execution_count": 20
        }
      ]
    },
    {
      "cell_type": "code",
      "source": [
        "p9 = a2 @ b2.T\n",
        "p9"
      ],
      "metadata": {
        "colab": {
          "base_uri": "https://localhost:8080/"
        },
        "id": "VI0oaiWxy6gb",
        "outputId": "5d717ccc-e1d4-4d06-b9a3-438e0d957dc9"
      },
      "execution_count": 21,
      "outputs": [
        {
          "output_type": "execute_result",
          "data": {
            "text/plain": [
              "np.int64(258)"
            ]
          },
          "metadata": {},
          "execution_count": 21
        }
      ]
    },
    {
      "cell_type": "code",
      "source": [
        "q1 = a / b.T\n",
        "q1"
      ],
      "metadata": {
        "colab": {
          "base_uri": "https://localhost:8080/"
        },
        "id": "l3JUedXhzC4H",
        "outputId": "8d369b2d-ae2f-4beb-edcf-1289a340ca1f"
      },
      "execution_count": 22,
      "outputs": [
        {
          "output_type": "execute_result",
          "data": {
            "text/plain": [
              "array([[1., 1., 1.]])"
            ]
          },
          "metadata": {},
          "execution_count": 22
        }
      ]
    },
    {
      "cell_type": "code",
      "source": [
        "q1 = a.T / b\n",
        "q1"
      ],
      "metadata": {
        "colab": {
          "base_uri": "https://localhost:8080/"
        },
        "id": "X8IkiCL2zGBJ",
        "outputId": "6be8d960-56b8-49ee-86de-a806d23098d1"
      },
      "execution_count": 23,
      "outputs": [
        {
          "output_type": "execute_result",
          "data": {
            "text/plain": [
              "array([[1.],\n",
              "       [1.],\n",
              "       [1.]])"
            ]
          },
          "metadata": {},
          "execution_count": 23
        }
      ]
    },
    {
      "cell_type": "code",
      "source": [
        "q1 = a / b\n",
        "q1"
      ],
      "metadata": {
        "colab": {
          "base_uri": "https://localhost:8080/"
        },
        "id": "uRIyhwhFzMXI",
        "outputId": "568d60c8-4d04-45b9-d169-fce5bc3af9a5"
      },
      "execution_count": 24,
      "outputs": [
        {
          "output_type": "execute_result",
          "data": {
            "text/plain": [
              "array([[1.        , 1.6       , 2.6       ],\n",
              "       [0.625     , 1.        , 1.625     ],\n",
              "       [0.38461538, 0.61538462, 1.        ]])"
            ]
          },
          "metadata": {},
          "execution_count": 24
        }
      ]
    },
    {
      "cell_type": "code",
      "source": [
        "# There is no \"\\\" in Python\n",
        "# q2 = a \\ b\n",
        "# q2"
      ],
      "metadata": {
        "id": "ldGBBkEezQQG"
      },
      "execution_count": 25,
      "outputs": []
    },
    {
      "cell_type": "markdown",
      "source": [
        "Building Matrices"
      ],
      "metadata": {
        "id": "O8Wa8kwozce6"
      }
    },
    {
      "cell_type": "code",
      "source": [
        "A1 = [b, b + 21, b ** 2]\n",
        "A1"
      ],
      "metadata": {
        "colab": {
          "base_uri": "https://localhost:8080/"
        },
        "id": "jZj3vNRIzbPV",
        "outputId": "bb56918c-074c-4cd0-c9f5-d9bfaf9e14d6"
      },
      "execution_count": 26,
      "outputs": [
        {
          "output_type": "execute_result",
          "data": {
            "text/plain": [
              "[array([[ 5],\n",
              "        [ 8],\n",
              "        [13]]),\n",
              " array([[26],\n",
              "        [29],\n",
              "        [34]]),\n",
              " array([[ 25],\n",
              "        [ 64],\n",
              "        [169]])]"
            ]
          },
          "metadata": {},
          "execution_count": 26
        }
      ]
    },
    {
      "cell_type": "code",
      "source": [
        "# A2 is invalid syntax (array takes one argument, not three).\n",
        "# A2 = array(b, b + 21, b ** 2)\n",
        "# A2"
      ],
      "metadata": {
        "id": "9t3lRP7pznXy"
      },
      "execution_count": 27,
      "outputs": []
    },
    {
      "cell_type": "code",
      "source": [
        "A = np.vstack([a, a + 21, a ** 2])\n",
        "A"
      ],
      "metadata": {
        "colab": {
          "base_uri": "https://localhost:8080/"
        },
        "id": "B2QrYbzu1ZpM",
        "outputId": "ee7acc6c-c24e-422a-f176-77eb21448329"
      },
      "execution_count": 28,
      "outputs": [
        {
          "output_type": "execute_result",
          "data": {
            "text/plain": [
              "array([[  5,   8,  13],\n",
              "       [ 26,  29,  34],\n",
              "       [ 25,  64, 169]])"
            ]
          },
          "metadata": {},
          "execution_count": 28
        }
      ]
    },
    {
      "cell_type": "code",
      "source": [
        "x = inv(A) @ b\n",
        "x"
      ],
      "metadata": {
        "colab": {
          "base_uri": "https://localhost:8080/"
        },
        "id": "qhCwbFJG1nmJ",
        "outputId": "2020442c-c97a-48a6-e118-e48f87367b5e"
      },
      "execution_count": 29,
      "outputs": [
        {
          "output_type": "execute_result",
          "data": {
            "text/plain": [
              "array([[-3.21428571],\n",
              "       [ 4.51428571],\n",
              "       [-1.15714286]])"
            ]
          },
          "metadata": {},
          "execution_count": 29
        }
      ]
    },
    {
      "cell_type": "code",
      "source": [
        "z = A @ x - b\n",
        "z"
      ],
      "metadata": {
        "colab": {
          "base_uri": "https://localhost:8080/"
        },
        "id": "VHXl2duV1vsY",
        "outputId": "381458d8-09d4-49d1-df15-5c88acead99b"
      },
      "execution_count": 30,
      "outputs": [
        {
          "output_type": "execute_result",
          "data": {
            "text/plain": [
              "array([[-1.77635684e-15],\n",
              "       [-1.33226763e-14],\n",
              "       [ 3.55271368e-15]])"
            ]
          },
          "metadata": {},
          "execution_count": 30
        }
      ]
    },
    {
      "cell_type": "code",
      "source": [
        "AtA = A.T @ A\n",
        "AtA"
      ],
      "metadata": {
        "colab": {
          "base_uri": "https://localhost:8080/"
        },
        "id": "LS_OHaji12-h",
        "outputId": "e3dcd232-f9e2-49d9-fe47-d18d9e65c26f"
      },
      "execution_count": 31,
      "outputs": [
        {
          "output_type": "execute_result",
          "data": {
            "text/plain": [
              "array([[ 1326,  2394,  5174],\n",
              "       [ 2394,  5001, 11906],\n",
              "       [ 5174, 11906, 29886]])"
            ]
          },
          "metadata": {},
          "execution_count": 31
        }
      ]
    },
    {
      "cell_type": "markdown",
      "source": [
        "Horizontal and Vertical Stacking"
      ],
      "metadata": {
        "id": "CZEeesRI17tq"
      }
    },
    {
      "cell_type": "code",
      "source": [
        "B = np.hstack([b, b ** 2])\n",
        "B"
      ],
      "metadata": {
        "colab": {
          "base_uri": "https://localhost:8080/"
        },
        "id": "Wsva0tqZ17id",
        "outputId": "920f03b2-8123-4883-c657-e66916cb6cdf"
      },
      "execution_count": 32,
      "outputs": [
        {
          "output_type": "execute_result",
          "data": {
            "text/plain": [
              "array([[  5,  25],\n",
              "       [  8,  64],\n",
              "       [ 13, 169]])"
            ]
          },
          "metadata": {},
          "execution_count": 32
        }
      ]
    },
    {
      "cell_type": "code",
      "source": [
        "C = np.vstack([c + 21, c ** 2])\n",
        "C"
      ],
      "metadata": {
        "colab": {
          "base_uri": "https://localhost:8080/"
        },
        "id": "qjc_qwSq16m0",
        "outputId": "8c076477-af77-4c0f-edd6-629ace0ae62b"
      },
      "execution_count": 33,
      "outputs": [
        {
          "output_type": "execute_result",
          "data": {
            "text/plain": [
              "array([[ 31,  37,  47],\n",
              "       [100, 256, 676]])"
            ]
          },
          "metadata": {},
          "execution_count": 33
        }
      ]
    },
    {
      "cell_type": "code",
      "source": [
        "D = array([[1, 2], [3, 4]])\n",
        "D"
      ],
      "metadata": {
        "colab": {
          "base_uri": "https://localhost:8080/"
        },
        "id": "BzWTJoKr2VKj",
        "outputId": "5567507d-62db-4102-8570-eb96d18964d3"
      },
      "execution_count": 34,
      "outputs": [
        {
          "output_type": "execute_result",
          "data": {
            "text/plain": [
              "array([[1, 2],\n",
              "       [3, 4]])"
            ]
          },
          "metadata": {},
          "execution_count": 34
        }
      ]
    },
    {
      "cell_type": "code",
      "source": [
        "# np.hstack([A, B]), (3x3), np.hstack([C, D]), (2x3) = Result (5x5)\n",
        "\n",
        "S = np.vstack([ np.hstack([A, B]), np.hstack([C, D])])\n",
        "S"
      ],
      "metadata": {
        "colab": {
          "base_uri": "https://localhost:8080/"
        },
        "id": "NxPG10I22eEm",
        "outputId": "d901b565-a50d-4bc2-d193-754edd7a3447"
      },
      "execution_count": 35,
      "outputs": [
        {
          "output_type": "execute_result",
          "data": {
            "text/plain": [
              "array([[  5,   8,  13,   5,  25],\n",
              "       [ 26,  29,  34,   8,  64],\n",
              "       [ 25,  64, 169,  13, 169],\n",
              "       [ 31,  37,  47,   1,   2],\n",
              "       [100, 256, 676,   3,   4]])"
            ]
          },
          "metadata": {},
          "execution_count": 35
        }
      ]
    },
    {
      "cell_type": "markdown",
      "source": [
        "Indexing and Slicing"
      ],
      "metadata": {
        "id": "IECo-hUJ3CKw"
      }
    },
    {
      "cell_type": "code",
      "source": [
        "# Slicing only works in the the brackets for arrays\n",
        "# u = [0:10]\n",
        "# u"
      ],
      "metadata": {
        "id": "WijPPwLB3EZu"
      },
      "execution_count": 36,
      "outputs": []
    },
    {
      "cell_type": "code",
      "source": [
        "u = np.linspace(1, 10, 10)\n",
        "u"
      ],
      "metadata": {
        "colab": {
          "base_uri": "https://localhost:8080/"
        },
        "id": "s9ln-s5n3VQZ",
        "outputId": "24b89699-5a46-43fd-f0f8-4e502eee2152"
      },
      "execution_count": 37,
      "outputs": [
        {
          "output_type": "execute_result",
          "data": {
            "text/plain": [
              "array([ 1.,  2.,  3.,  4.,  5.,  6.,  7.,  8.,  9., 10.])"
            ]
          },
          "metadata": {},
          "execution_count": 37
        }
      ]
    },
    {
      "cell_type": "code",
      "source": [
        "# u[10] is out of range\n",
        "# v = u[10]\n",
        "# v"
      ],
      "metadata": {
        "id": "ZKbD-pke3bNH"
      },
      "execution_count": 38,
      "outputs": []
    },
    {
      "cell_type": "code",
      "source": [
        "# First number\n",
        "v = u[0]\n",
        "v"
      ],
      "metadata": {
        "colab": {
          "base_uri": "https://localhost:8080/"
        },
        "id": "iobbJFxI3nVs",
        "outputId": "a8744edc-3c32-465e-b592-8b7791201a2a"
      },
      "execution_count": 39,
      "outputs": [
        {
          "output_type": "execute_result",
          "data": {
            "text/plain": [
              "np.float64(1.0)"
            ]
          },
          "metadata": {},
          "execution_count": 39
        }
      ]
    },
    {
      "cell_type": "code",
      "source": [
        "# Last number\n",
        "v = u[-1]\n",
        "v"
      ],
      "metadata": {
        "colab": {
          "base_uri": "https://localhost:8080/"
        },
        "id": "t0hxrtvJ30Qk",
        "outputId": "a676fac8-a676-427a-d6e8-f0c77397d845"
      },
      "execution_count": 40,
      "outputs": [
        {
          "output_type": "execute_result",
          "data": {
            "text/plain": [
              "np.float64(10.0)"
            ]
          },
          "metadata": {},
          "execution_count": 40
        }
      ]
    },
    {
      "cell_type": "code",
      "source": [
        "# This indicates the numbers at position 2,3,4\n",
        "v = u[2:5]\n",
        "v"
      ],
      "metadata": {
        "colab": {
          "base_uri": "https://localhost:8080/"
        },
        "id": "sw7FDskb38-5",
        "outputId": "afa57210-db3b-438c-ef15-64c6e1718287"
      },
      "execution_count": 41,
      "outputs": [
        {
          "output_type": "execute_result",
          "data": {
            "text/plain": [
              "array([3., 4., 5.])"
            ]
          },
          "metadata": {},
          "execution_count": 41
        }
      ]
    },
    {
      "cell_type": "code",
      "source": [
        "# This indicates numbers at position 2,3,4 and 5\n",
        "v = u[2:5+1]\n",
        "v\n"
      ],
      "metadata": {
        "colab": {
          "base_uri": "https://localhost:8080/"
        },
        "id": "zuVjccpt4Eq0",
        "outputId": "fd0b0c25-ff32-4085-e5cf-302ef3bc23d2"
      },
      "execution_count": 42,
      "outputs": [
        {
          "output_type": "execute_result",
          "data": {
            "text/plain": [
              "array([3., 4., 5., 6.])"
            ]
          },
          "metadata": {},
          "execution_count": 42
        }
      ]
    },
    {
      "cell_type": "code",
      "source": [
        "# This means row 2, column 0\n",
        "v = A[2,0]\n",
        "v"
      ],
      "metadata": {
        "colab": {
          "base_uri": "https://localhost:8080/"
        },
        "id": "C7IzFV874T0m",
        "outputId": "0027d19c-2f69-40f1-8f6b-499021d67724"
      },
      "execution_count": 43,
      "outputs": [
        {
          "output_type": "execute_result",
          "data": {
            "text/plain": [
              "np.int64(25)"
            ]
          },
          "metadata": {},
          "execution_count": 43
        }
      ]
    },
    {
      "cell_type": "code",
      "source": [
        "# This also means row 3, column 0\n",
        "v = A[2][0]\n",
        "v"
      ],
      "metadata": {
        "colab": {
          "base_uri": "https://localhost:8080/"
        },
        "id": "Of4BEjMw4kB0",
        "outputId": "584f63b8-e2d2-4162-84e9-08a840f5223f"
      },
      "execution_count": 44,
      "outputs": [
        {
          "output_type": "execute_result",
          "data": {
            "text/plain": [
              "np.int64(25)"
            ]
          },
          "metadata": {},
          "execution_count": 44
        }
      ]
    },
    {
      "cell_type": "code",
      "source": [
        "# The entire row 1\n",
        "v = A[1, :]\n",
        "v"
      ],
      "metadata": {
        "colab": {
          "base_uri": "https://localhost:8080/"
        },
        "id": "v_WhOwjH4sDn",
        "outputId": "1aab3e3a-6f08-40f5-dca8-33abcf82cc7f"
      },
      "execution_count": 45,
      "outputs": [
        {
          "output_type": "execute_result",
          "data": {
            "text/plain": [
              "array([26, 29, 34])"
            ]
          },
          "metadata": {},
          "execution_count": 45
        }
      ]
    },
    {
      "cell_type": "code",
      "source": [
        "# This is for row 1 and 2, and all the columns\n",
        "v = A[1:3, :]\n",
        "v"
      ],
      "metadata": {
        "colab": {
          "base_uri": "https://localhost:8080/"
        },
        "id": "TwfU-nTY4yeT",
        "outputId": "68e0a784-598c-441b-d844-3be866784e7e"
      },
      "execution_count": 46,
      "outputs": [
        {
          "output_type": "execute_result",
          "data": {
            "text/plain": [
              "array([[ 26,  29,  34],\n",
              "       [ 25,  64, 169]])"
            ]
          },
          "metadata": {},
          "execution_count": 46
        }
      ]
    },
    {
      "cell_type": "code",
      "source": [
        "# This is for row 1 and 2, columns 1 and 2\n",
        "v = A[1:3, 1:3]\n",
        "v"
      ],
      "metadata": {
        "colab": {
          "base_uri": "https://localhost:8080/"
        },
        "id": "eM347v-P48vm",
        "outputId": "b6928222-03f2-4c8c-f3f0-c0942da01fdb"
      },
      "execution_count": 47,
      "outputs": [
        {
          "output_type": "execute_result",
          "data": {
            "text/plain": [
              "array([[ 29,  34],\n",
              "       [ 64, 169]])"
            ]
          },
          "metadata": {},
          "execution_count": 47
        }
      ]
    },
    {
      "cell_type": "code",
      "source": [
        "# This means start at the 6th index, and end at the second to last , increase by 2\n",
        "v = u[6:-2:2]\n",
        "v"
      ],
      "metadata": {
        "colab": {
          "base_uri": "https://localhost:8080/"
        },
        "id": "9mxZFb-T5Hvf",
        "outputId": "41a4cf59-4275-4ee5-cada-cd65c9692b40"
      },
      "execution_count": 48,
      "outputs": [
        {
          "output_type": "execute_result",
          "data": {
            "text/plain": [
              "array([7.])"
            ]
          },
          "metadata": {},
          "execution_count": 48
        }
      ]
    },
    {
      "cell_type": "code",
      "source": [
        "# Picks up the elements at positions 6, 4 and 2\n",
        "v = u[[6,4,2]]\n",
        "v"
      ],
      "metadata": {
        "colab": {
          "base_uri": "https://localhost:8080/"
        },
        "id": "5q8-7n9s5gMU",
        "outputId": "036c6e43-bf9c-4038-b75e-1c905f606153"
      },
      "execution_count": 49,
      "outputs": [
        {
          "output_type": "execute_result",
          "data": {
            "text/plain": [
              "array([7., 5., 3.])"
            ]
          },
          "metadata": {},
          "execution_count": 49
        }
      ]
    },
    {
      "cell_type": "markdown",
      "source": [
        "Vector Mistakes"
      ],
      "metadata": {
        "id": "AbKqOZv08P0T"
      }
    },
    {
      "cell_type": "code",
      "source": [
        "y = np.array([1,2,3]) * np.array([4,5,6])\n",
        "y"
      ],
      "metadata": {
        "colab": {
          "base_uri": "https://localhost:8080/"
        },
        "id": "38XaQVTX8Pio",
        "outputId": "173829c1-ec11-4712-f967-9ff6a63baae3"
      },
      "execution_count": 55,
      "outputs": [
        {
          "output_type": "execute_result",
          "data": {
            "text/plain": [
              "array([ 4, 10, 18])"
            ]
          },
          "metadata": {},
          "execution_count": 55
        }
      ]
    },
    {
      "cell_type": "code",
      "source": [
        "#To get a scalar result use\n",
        "y1 = np .array([1,2,3]) @ np.array([4,5,6])\n",
        "y1"
      ],
      "metadata": {
        "colab": {
          "base_uri": "https://localhost:8080/"
        },
        "id": "DI5sZ65Vlp27",
        "outputId": "d3098b60-c740-4f3f-baa9-2d3630cd087b"
      },
      "execution_count": 56,
      "outputs": [
        {
          "output_type": "execute_result",
          "data": {
            "text/plain": [
              "np.int64(32)"
            ]
          },
          "metadata": {},
          "execution_count": 56
        }
      ]
    },
    {
      "cell_type": "code",
      "source": [
        "#Using a float as an index\n",
        "z = np.array([1, 2, 3, 4])\n",
        "#z1 = z[2.0]\n",
        "z1 = z[2]\n",
        "# or\n",
        "z1 = z[int(2.0)]\n",
        "z1"
      ],
      "metadata": {
        "colab": {
          "base_uri": "https://localhost:8080/"
        },
        "id": "_FJLWokDl8iz",
        "outputId": "5f868a8b-fa29-4456-c53e-903cdd423c10"
      },
      "execution_count": 58,
      "outputs": [
        {
          "output_type": "execute_result",
          "data": {
            "text/plain": [
              "np.int64(3)"
            ]
          },
          "metadata": {},
          "execution_count": 58
        }
      ]
    },
    {
      "cell_type": "code",
      "source": [
        "# Mixing list sizes when making a matrix\n",
        "#E = np.array([[1, 2], [3, 4, 5]])\n",
        "\n",
        "E = np.array([[1, 2], [3, 4]])\n",
        "E"
      ],
      "metadata": {
        "colab": {
          "base_uri": "https://localhost:8080/"
        },
        "id": "Q4-1RVJlmhTY",
        "outputId": "4a2a4e5b-41f7-4331-b6d1-5848e507da26"
      },
      "execution_count": 64,
      "outputs": [
        {
          "output_type": "execute_result",
          "data": {
            "text/plain": [
              "array([[1, 2],\n",
              "       [3, 4]])"
            ]
          },
          "metadata": {},
          "execution_count": 64
        }
      ]
    },
    {
      "cell_type": "code",
      "source": [
        "# Summing entire matrix when you wanted rows or columns sums\n",
        "\n",
        "F = np.array([[1, 2], [3, 4]])\n",
        "F1 = np.sum(F)\n",
        "F1\n"
      ],
      "metadata": {
        "colab": {
          "base_uri": "https://localhost:8080/"
        },
        "id": "1bu8ObCjnd1Z",
        "outputId": "e3b1a90a-bee3-4325-ddaa-10383128aa85"
      },
      "execution_count": 71,
      "outputs": [
        {
          "output_type": "execute_result",
          "data": {
            "text/plain": [
              "np.int64(10)"
            ]
          },
          "metadata": {},
          "execution_count": 71
        }
      ]
    },
    {
      "cell_type": "code",
      "source": [
        "# Specify axis\n",
        "row_sums = np.sum(F, axis=1)\n",
        "col_sums = np.sum(F, axis=0)\n",
        "row_sums\n",
        "col_sums"
      ],
      "metadata": {
        "colab": {
          "base_uri": "https://localhost:8080/"
        },
        "id": "NO6GcewWoyxp",
        "outputId": "24e104c8-0e81-4c11-9206-f325159f6083"
      },
      "execution_count": 76,
      "outputs": [
        {
          "output_type": "execute_result",
          "data": {
            "text/plain": [
              "array([4, 6])"
            ]
          },
          "metadata": {},
          "execution_count": 76
        }
      ]
    },
    {
      "cell_type": "markdown",
      "source": [],
      "metadata": {
        "id": "Ir1dCrcDp_FV"
      }
    }
  ]
}