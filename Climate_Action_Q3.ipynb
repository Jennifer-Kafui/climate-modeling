{
  "nbformat": 4,
  "nbformat_minor": 0,
  "metadata": {
    "colab": {
      "provenance": [],
      "authorship_tag": "ABX9TyPGnOMChmvln73trIRy2cLp",
      "include_colab_link": true
    },
    "kernelspec": {
      "name": "python3",
      "display_name": "Python 3"
    },
    "language_info": {
      "name": "python"
    }
  },
  "cells": [
    {
      "cell_type": "markdown",
      "metadata": {
        "id": "view-in-github",
        "colab_type": "text"
      },
      "source": [
        "<a href=\"https://colab.research.google.com/github/Jennifer-Kafui/climate-modeling/blob/main/Climate_Action_Q3.ipynb\" target=\"_parent\"><img src=\"https://colab.research.google.com/assets/colab-badge.svg\" alt=\"Open In Colab\"/></a>"
      ]
    },
    {
      "cell_type": "markdown",
      "source": [
        "Question 3 , Making computing mistakes"
      ],
      "metadata": {
        "id": "WaICPU9hpqW0"
      }
    },
    {
      "cell_type": "code",
      "source": [
        "#importing package(s) and create aliases\n",
        "\n",
        "import numpy as np\n",
        "#numpy is a core package for numerical arrays and linear algebra\n",
        "\n",
        "from numpy import array\n",
        "#array helps to build numpy arrays from python\n",
        "\n",
        "from numpy.linalg import inv as inv\n",
        "# to help in linear algebra calculations like inverse , transpose"
      ],
      "metadata": {
        "id": "lSZFajVfpxAS"
      },
      "execution_count": null,
      "outputs": []
    },
    {
      "cell_type": "markdown",
      "source": [
        "Creating Arrays and Performing Math on them"
      ],
      "metadata": {
        "id": "je7RiGpZqxtM"
      }
    },
    {
      "cell_type": "code",
      "source": [
        "# This is a normal list and not suited for our linear algebra calulations\n",
        "\n",
        "a1 = [5,8, 13]\n",
        "a1"
      ],
      "metadata": {
        "colab": {
          "base_uri": "https://localhost:8080/"
        },
        "id": "I9J2ODJIq3ed",
        "outputId": "865116ec-d716-402c-9a4f-48d9052bb987"
      },
      "execution_count": null,
      "outputs": [
        {
          "output_type": "execute_result",
          "data": {
            "text/plain": [
              "[5, 8, 13]"
            ]
          },
          "metadata": {},
          "execution_count": 3
        }
      ]
    },
    {
      "cell_type": "code",
      "source": [
        "#This is not a matrix\n",
        "\n",
        "a2 = array([5, 8, 13])\n",
        "a2"
      ],
      "metadata": {
        "colab": {
          "base_uri": "https://localhost:8080/"
        },
        "id": "LwuF42H7uZDL",
        "outputId": "454dbc6b-ff54-4fdd-b4f6-8c0df96fd609"
      },
      "execution_count": null,
      "outputs": [
        {
          "output_type": "execute_result",
          "data": {
            "text/plain": [
              "array([ 5,  8, 13])"
            ]
          },
          "metadata": {},
          "execution_count": 4
        }
      ]
    },
    {
      "cell_type": "code",
      "source": [
        "a = array([[5, 8, 13]])\n",
        "a"
      ],
      "metadata": {
        "colab": {
          "base_uri": "https://localhost:8080/"
        },
        "id": "SNeEDNcruq3S",
        "outputId": "28be3db9-f286-4792-9150-64ea0585e5ba"
      },
      "execution_count": null,
      "outputs": [
        {
          "output_type": "execute_result",
          "data": {
            "text/plain": [
              "array([[ 5,  8, 13]])"
            ]
          },
          "metadata": {},
          "execution_count": 5
        }
      ]
    },
    {
      "cell_type": "markdown",
      "source": [
        "Transpose"
      ],
      "metadata": {
        "id": "5sylel6Uuz8h"
      }
    },
    {
      "cell_type": "code",
      "source": [
        "# .T on a Python list it won't work, works on only 2D array\n",
        "# b1 = a1.T\n",
        "b1"
      ],
      "metadata": {
        "id": "PsbwYITRu1R7"
      },
      "execution_count": null,
      "outputs": []
    },
    {
      "cell_type": "code",
      "source": [
        "#.T on a 1D array returns the same array (no actual transpose happens)\n",
        "b2 = a2.T\n",
        "b2"
      ],
      "metadata": {
        "colab": {
          "base_uri": "https://localhost:8080/"
        },
        "id": "UW6FORdJvINI",
        "outputId": "78ac8d0d-7bb6-41a4-9320-33fafc689294"
      },
      "execution_count": null,
      "outputs": [
        {
          "output_type": "execute_result",
          "data": {
            "text/plain": [
              "array([ 5,  8, 13])"
            ]
          },
          "metadata": {},
          "execution_count": 7
        }
      ]
    },
    {
      "cell_type": "code",
      "source": [
        "# The is the right transpose\n",
        "b = a.T\n",
        "b"
      ],
      "metadata": {
        "colab": {
          "base_uri": "https://localhost:8080/"
        },
        "id": "Fkh9TyvfvUP-",
        "outputId": "370f2afa-d2cb-4b7c-cdb7-3feae9b4548a"
      },
      "execution_count": null,
      "outputs": [
        {
          "output_type": "execute_result",
          "data": {
            "text/plain": [
              "array([[ 5],\n",
              "       [ 8],\n",
              "       [13]])"
            ]
          },
          "metadata": {},
          "execution_count": 9
        }
      ]
    },
    {
      "cell_type": "markdown",
      "source": [
        "Matrix Operations"
      ],
      "metadata": {
        "id": "P_xuFNMtvnFc"
      }
    },
    {
      "cell_type": "code",
      "source": [
        "# Multiplying a list by 2 repeats it\n",
        "c1 = a1 * 2\n",
        "c1"
      ],
      "metadata": {
        "colab": {
          "base_uri": "https://localhost:8080/"
        },
        "id": "tUcALYWMvojc",
        "outputId": "bbb6c806-d88d-4fac-af3b-d11a9dad2f8f"
      },
      "execution_count": null,
      "outputs": [
        {
          "output_type": "execute_result",
          "data": {
            "text/plain": [
              "[5, 8, 13, 5, 8, 13]"
            ]
          },
          "metadata": {},
          "execution_count": 10
        }
      ]
    },
    {
      "cell_type": "code",
      "source": [
        "# Multiplies the array by 2\n",
        "c2 = a2 * 2\n",
        "c2"
      ],
      "metadata": {
        "colab": {
          "base_uri": "https://localhost:8080/"
        },
        "id": "XTlJu3f1vvlL",
        "outputId": "d15ea599-27aa-433f-adac-19517c9fb24b"
      },
      "execution_count": null,
      "outputs": [
        {
          "output_type": "execute_result",
          "data": {
            "text/plain": [
              "array([10, 16, 26])"
            ]
          },
          "metadata": {},
          "execution_count": 13
        }
      ]
    },
    {
      "cell_type": "code",
      "source": [
        "# Also multiplies the array by 2\n",
        "c = a * 2\n",
        "c"
      ],
      "metadata": {
        "colab": {
          "base_uri": "https://localhost:8080/"
        },
        "id": "hqTdn1lSwC7_",
        "outputId": "2ca862c7-d354-4293-9339-69f51e2188f9"
      },
      "execution_count": null,
      "outputs": [
        {
          "output_type": "execute_result",
          "data": {
            "text/plain": [
              "array([[10, 16, 26]])"
            ]
          },
          "metadata": {},
          "execution_count": 15
        }
      ]
    },
    {
      "cell_type": "code",
      "source": [
        "# Also multiplies the array by 11\n",
        "#x = array ([9,8,7]) * array(11)\n",
        "x = array([9, 8, 7]) * 11\n",
        "x"
      ],
      "metadata": {
        "colab": {
          "base_uri": "https://localhost:8080/"
        },
        "id": "db7tTEefww3D",
        "outputId": "ebabd9dc-afcf-4b38-a36d-9294dcce8b4c"
      },
      "execution_count": null,
      "outputs": [
        {
          "output_type": "execute_result",
          "data": {
            "text/plain": [
              "array([99, 88, 77])"
            ]
          },
          "metadata": {},
          "execution_count": 19
        }
      ]
    },
    {
      "cell_type": "code",
      "source": [
        "# Python uses ** for exponentiation\n",
        "# x = b ^ 3\n",
        "d = b ** 3\n",
        "d\n"
      ],
      "metadata": {
        "colab": {
          "base_uri": "https://localhost:8080/"
        },
        "id": "FaiPe5gTxFfo",
        "outputId": "3d966203-7576-4d82-c7da-4969f9396e39"
      },
      "execution_count": null,
      "outputs": [
        {
          "output_type": "execute_result",
          "data": {
            "text/plain": [
              "array([[ 125],\n",
              "       [ 512],\n",
              "       [2197]])"
            ]
          },
          "metadata": {},
          "execution_count": 21
        }
      ]
    },
    {
      "cell_type": "code",
      "source": [
        "p1 = a * b\n",
        "p1"
      ],
      "metadata": {
        "colab": {
          "base_uri": "https://localhost:8080/"
        },
        "id": "flT5BxhpxXIR",
        "outputId": "921bdbac-f2b3-4025-bff4-c3053078779e"
      },
      "execution_count": null,
      "outputs": [
        {
          "output_type": "execute_result",
          "data": {
            "text/plain": [
              "array([[ 25,  40,  65],\n",
              "       [ 40,  64, 104],\n",
              "       [ 65, 104, 169]])"
            ]
          },
          "metadata": {},
          "execution_count": 22
        }
      ]
    },
    {
      "cell_type": "code",
      "source": [
        "p2 = a * b.T\n",
        "p2"
      ],
      "metadata": {
        "colab": {
          "base_uri": "https://localhost:8080/"
        },
        "id": "3xGFh2VQxqSU",
        "outputId": "25727557-daec-4c3f-c771-775f5ee986ac"
      },
      "execution_count": null,
      "outputs": [
        {
          "output_type": "execute_result",
          "data": {
            "text/plain": [
              "array([[ 25,  64, 169]])"
            ]
          },
          "metadata": {},
          "execution_count": 23
        }
      ]
    },
    {
      "cell_type": "code",
      "source": [
        "p3 = a.T * b\n",
        "p3"
      ],
      "metadata": {
        "colab": {
          "base_uri": "https://localhost:8080/"
        },
        "id": "JrJs2jNbxwZN",
        "outputId": "1d2078ba-4bf7-4f8f-8e29-e5f54e538f9d"
      },
      "execution_count": null,
      "outputs": [
        {
          "output_type": "execute_result",
          "data": {
            "text/plain": [
              "array([[ 25],\n",
              "       [ 64],\n",
              "       [169]])"
            ]
          },
          "metadata": {},
          "execution_count": 24
        }
      ]
    },
    {
      "cell_type": "code",
      "source": [
        "p4 = a @ b\n",
        "p4"
      ],
      "metadata": {
        "colab": {
          "base_uri": "https://localhost:8080/"
        },
        "id": "yKUjyBMXx332",
        "outputId": "2e709d6e-6eb4-4079-bdd9-f3e0e631ecb2"
      },
      "execution_count": null,
      "outputs": [
        {
          "output_type": "execute_result",
          "data": {
            "text/plain": [
              "array([[258]])"
            ]
          },
          "metadata": {},
          "execution_count": 25
        }
      ]
    },
    {
      "cell_type": "code",
      "source": [
        "# Dimension mismatch\n",
        "#p5 = a @ b.T\n",
        "#p5"
      ],
      "metadata": {
        "id": "ug9dZb8Yx9um"
      },
      "execution_count": null,
      "outputs": []
    },
    {
      "cell_type": "code",
      "source": [
        "# Dimension mismatch\n",
        "#p6 = a.T @ b\n",
        "#p6"
      ],
      "metadata": {
        "id": "ECgVNkclyk_W"
      },
      "execution_count": null,
      "outputs": []
    },
    {
      "cell_type": "code",
      "source": [
        "p7 = a.T @ b.T\n",
        "p7"
      ],
      "metadata": {
        "colab": {
          "base_uri": "https://localhost:8080/"
        },
        "id": "W9Nci7DtyyCx",
        "outputId": "478b7fb7-48b7-435a-c784-1dc7450c6436"
      },
      "execution_count": null,
      "outputs": [
        {
          "output_type": "execute_result",
          "data": {
            "text/plain": [
              "array([[ 25,  40,  65],\n",
              "       [ 40,  64, 104],\n",
              "       [ 65, 104, 169]])"
            ]
          },
          "metadata": {},
          "execution_count": 30
        }
      ]
    },
    {
      "cell_type": "code",
      "source": [
        "p8 = a2 @ b2\n",
        "p8"
      ],
      "metadata": {
        "colab": {
          "base_uri": "https://localhost:8080/"
        },
        "id": "DApygg-0y2l5",
        "outputId": "a4951470-d039-4813-a1bd-760026320a5f"
      },
      "execution_count": null,
      "outputs": [
        {
          "output_type": "execute_result",
          "data": {
            "text/plain": [
              "np.int64(258)"
            ]
          },
          "metadata": {},
          "execution_count": 31
        }
      ]
    },
    {
      "cell_type": "code",
      "source": [
        "p9 = a2 @ b2.T\n",
        "p9"
      ],
      "metadata": {
        "colab": {
          "base_uri": "https://localhost:8080/"
        },
        "id": "VI0oaiWxy6gb",
        "outputId": "3aa275c9-1819-4a29-adad-f5e62abc814c"
      },
      "execution_count": null,
      "outputs": [
        {
          "output_type": "execute_result",
          "data": {
            "text/plain": [
              "np.int64(258)"
            ]
          },
          "metadata": {},
          "execution_count": 32
        }
      ]
    },
    {
      "cell_type": "code",
      "source": [
        "q1 = a / b.T\n",
        "q1"
      ],
      "metadata": {
        "colab": {
          "base_uri": "https://localhost:8080/"
        },
        "id": "l3JUedXhzC4H",
        "outputId": "cb658fc9-a11b-4f12-ee02-7d3d376cbc86"
      },
      "execution_count": null,
      "outputs": [
        {
          "output_type": "execute_result",
          "data": {
            "text/plain": [
              "array([[1., 1., 1.]])"
            ]
          },
          "metadata": {},
          "execution_count": 34
        }
      ]
    },
    {
      "cell_type": "code",
      "source": [
        "q1 = a.T / b\n",
        "q1"
      ],
      "metadata": {
        "colab": {
          "base_uri": "https://localhost:8080/"
        },
        "id": "X8IkiCL2zGBJ",
        "outputId": "39a6b3a1-6daa-4c17-bc3f-eea2a2ddbf82"
      },
      "execution_count": null,
      "outputs": [
        {
          "output_type": "execute_result",
          "data": {
            "text/plain": [
              "array([[1.],\n",
              "       [1.],\n",
              "       [1.]])"
            ]
          },
          "metadata": {},
          "execution_count": 35
        }
      ]
    },
    {
      "cell_type": "code",
      "source": [
        "q1 = a / b\n",
        "q1"
      ],
      "metadata": {
        "colab": {
          "base_uri": "https://localhost:8080/"
        },
        "id": "uRIyhwhFzMXI",
        "outputId": "af07cf0e-9bd1-427b-89fb-71eb3e94babb"
      },
      "execution_count": null,
      "outputs": [
        {
          "output_type": "execute_result",
          "data": {
            "text/plain": [
              "array([[1.        , 1.6       , 2.6       ],\n",
              "       [0.625     , 1.        , 1.625     ],\n",
              "       [0.38461538, 0.61538462, 1.        ]])"
            ]
          },
          "metadata": {},
          "execution_count": 36
        }
      ]
    },
    {
      "cell_type": "code",
      "source": [
        "# There is no \"\\\" in Python\n",
        "# q2 = a \\ b\n",
        "# q2"
      ],
      "metadata": {
        "id": "ldGBBkEezQQG"
      },
      "execution_count": null,
      "outputs": []
    },
    {
      "cell_type": "markdown",
      "source": [
        "Building Matrices"
      ],
      "metadata": {
        "id": "O8Wa8kwozce6"
      }
    },
    {
      "cell_type": "code",
      "source": [
        "A1 = [b, b + 21, b ** 2]\n",
        "A1"
      ],
      "metadata": {
        "colab": {
          "base_uri": "https://localhost:8080/"
        },
        "id": "jZj3vNRIzbPV",
        "outputId": "65e3bebb-e5ae-4e35-e11b-2a727cc8e6b4"
      },
      "execution_count": null,
      "outputs": [
        {
          "output_type": "execute_result",
          "data": {
            "text/plain": [
              "[array([[ 5],\n",
              "        [ 8],\n",
              "        [13]]),\n",
              " array([[26],\n",
              "        [29],\n",
              "        [34]]),\n",
              " array([[ 25],\n",
              "        [ 64],\n",
              "        [169]])]"
            ]
          },
          "metadata": {},
          "execution_count": 38
        }
      ]
    },
    {
      "cell_type": "code",
      "source": [
        "# A2 is invalid syntax (array takes one argument, not three)\n",
        "# A2 = array(b, b + 21, b ** 2)\n",
        "# A2"
      ],
      "metadata": {
        "id": "9t3lRP7pznXy"
      },
      "execution_count": null,
      "outputs": []
    },
    {
      "cell_type": "code",
      "source": [
        "A = np.vstack([a, a + 21, a ** 2])\n",
        "A"
      ],
      "metadata": {
        "colab": {
          "base_uri": "https://localhost:8080/"
        },
        "id": "B2QrYbzu1ZpM",
        "outputId": "2a1ff44f-c85f-4e48-9103-11edecb51978"
      },
      "execution_count": null,
      "outputs": [
        {
          "output_type": "execute_result",
          "data": {
            "text/plain": [
              "array([[  5,   8,  13],\n",
              "       [ 26,  29,  34],\n",
              "       [ 25,  64, 169]])"
            ]
          },
          "metadata": {},
          "execution_count": 40
        }
      ]
    },
    {
      "cell_type": "code",
      "source": [
        "x = inv(A) @ b\n",
        "x"
      ],
      "metadata": {
        "colab": {
          "base_uri": "https://localhost:8080/"
        },
        "id": "qhCwbFJG1nmJ",
        "outputId": "85d66928-6fba-43c4-ea1e-ca325dafaa1b"
      },
      "execution_count": null,
      "outputs": [
        {
          "output_type": "execute_result",
          "data": {
            "text/plain": [
              "array([[-3.21428571],\n",
              "       [ 4.51428571],\n",
              "       [-1.15714286]])"
            ]
          },
          "metadata": {},
          "execution_count": 41
        }
      ]
    },
    {
      "cell_type": "code",
      "source": [
        "z = A @ x - b\n",
        "z"
      ],
      "metadata": {
        "colab": {
          "base_uri": "https://localhost:8080/"
        },
        "id": "VHXl2duV1vsY",
        "outputId": "a481d49e-f332-4032-ff2d-c0fd52062eff"
      },
      "execution_count": null,
      "outputs": [
        {
          "output_type": "execute_result",
          "data": {
            "text/plain": [
              "array([[-1.77635684e-15],\n",
              "       [-1.33226763e-14],\n",
              "       [ 3.55271368e-15]])"
            ]
          },
          "metadata": {},
          "execution_count": 42
        }
      ]
    },
    {
      "cell_type": "code",
      "source": [
        "AtA = A.T @ A\n",
        "AtA"
      ],
      "metadata": {
        "colab": {
          "base_uri": "https://localhost:8080/"
        },
        "id": "LS_OHaji12-h",
        "outputId": "8ba0e5eb-fa68-4a37-851f-9d848dd159ef"
      },
      "execution_count": null,
      "outputs": [
        {
          "output_type": "execute_result",
          "data": {
            "text/plain": [
              "array([[ 1326,  2394,  5174],\n",
              "       [ 2394,  5001, 11906],\n",
              "       [ 5174, 11906, 29886]])"
            ]
          },
          "metadata": {},
          "execution_count": 43
        }
      ]
    },
    {
      "cell_type": "markdown",
      "source": [
        "Horizontal and Vertical Stacking"
      ],
      "metadata": {
        "id": "CZEeesRI17tq"
      }
    },
    {
      "cell_type": "code",
      "source": [
        "B = np.hstack([b, b ** 2])\n",
        "B"
      ],
      "metadata": {
        "colab": {
          "base_uri": "https://localhost:8080/"
        },
        "id": "Wsva0tqZ17id",
        "outputId": "4faa0279-8b11-445f-8d05-f8c455e8818a"
      },
      "execution_count": null,
      "outputs": [
        {
          "output_type": "execute_result",
          "data": {
            "text/plain": [
              "array([[  5,  25],\n",
              "       [  8,  64],\n",
              "       [ 13, 169]])"
            ]
          },
          "metadata": {},
          "execution_count": 44
        }
      ]
    },
    {
      "cell_type": "code",
      "source": [
        "C = np.vstack([c + 21, c ** 2])\n",
        "C"
      ],
      "metadata": {
        "colab": {
          "base_uri": "https://localhost:8080/"
        },
        "id": "qjc_qwSq16m0",
        "outputId": "a69ba4cd-9dec-4ad9-cabf-0b86a9f04231"
      },
      "execution_count": null,
      "outputs": [
        {
          "output_type": "execute_result",
          "data": {
            "text/plain": [
              "array([[ 31,  37,  47],\n",
              "       [100, 256, 676]])"
            ]
          },
          "metadata": {},
          "execution_count": 45
        }
      ]
    },
    {
      "cell_type": "code",
      "source": [
        "D = array([[1, 2], [3, 4]])\n",
        "D"
      ],
      "metadata": {
        "colab": {
          "base_uri": "https://localhost:8080/"
        },
        "id": "BzWTJoKr2VKj",
        "outputId": "ed89a247-7cdb-496c-a822-7b9ee49e5df8"
      },
      "execution_count": null,
      "outputs": [
        {
          "output_type": "execute_result",
          "data": {
            "text/plain": [
              "array([[1, 2],\n",
              "       [3, 4]])"
            ]
          },
          "metadata": {},
          "execution_count": 46
        }
      ]
    },
    {
      "cell_type": "code",
      "source": [
        "# np.hstack([A, B]), (3x3), np.hstack([C, D]), (2x3) = Result (5x5)\n",
        "\n",
        "S = np.vstack([ np.hstack([A, B]), np.hstack([C, D])])\n",
        "S"
      ],
      "metadata": {
        "colab": {
          "base_uri": "https://localhost:8080/"
        },
        "id": "NxPG10I22eEm",
        "outputId": "ae9e36aa-92c8-4896-bd4b-e83745ba679c"
      },
      "execution_count": null,
      "outputs": [
        {
          "output_type": "execute_result",
          "data": {
            "text/plain": [
              "array([[  5,   8,  13,   5,  25],\n",
              "       [ 26,  29,  34,   8,  64],\n",
              "       [ 25,  64, 169,  13, 169],\n",
              "       [ 31,  37,  47,   1,   2],\n",
              "       [100, 256, 676,   3,   4]])"
            ]
          },
          "metadata": {},
          "execution_count": 47
        }
      ]
    },
    {
      "cell_type": "markdown",
      "source": [
        "Indexing and Slicing"
      ],
      "metadata": {
        "id": "IECo-hUJ3CKw"
      }
    },
    {
      "cell_type": "code",
      "source": [
        "# Slicing only works in the the brackets for arrays\n",
        "# u = [0:10]\n",
        "# u"
      ],
      "metadata": {
        "id": "WijPPwLB3EZu"
      },
      "execution_count": null,
      "outputs": []
    },
    {
      "cell_type": "code",
      "source": [
        "u = np.linspace(1, 10, 10)\n",
        "u"
      ],
      "metadata": {
        "colab": {
          "base_uri": "https://localhost:8080/"
        },
        "id": "s9ln-s5n3VQZ",
        "outputId": "30212d2d-1b88-460c-dc37-8ecdacfe0e7f"
      },
      "execution_count": null,
      "outputs": [
        {
          "output_type": "execute_result",
          "data": {
            "text/plain": [
              "array([ 1.,  2.,  3.,  4.,  5.,  6.,  7.,  8.,  9., 10.])"
            ]
          },
          "metadata": {},
          "execution_count": 49
        }
      ]
    },
    {
      "cell_type": "code",
      "source": [
        "# u[10] is out of range\n",
        "# v = u[10]\n",
        "# v"
      ],
      "metadata": {
        "id": "ZKbD-pke3bNH"
      },
      "execution_count": null,
      "outputs": []
    },
    {
      "cell_type": "code",
      "source": [
        "# First number\n",
        "v = u[0]\n",
        "v"
      ],
      "metadata": {
        "colab": {
          "base_uri": "https://localhost:8080/"
        },
        "id": "iobbJFxI3nVs",
        "outputId": "86d37147-bc8f-4886-ccc5-19526fa94822"
      },
      "execution_count": null,
      "outputs": [
        {
          "output_type": "execute_result",
          "data": {
            "text/plain": [
              "np.float64(1.0)"
            ]
          },
          "metadata": {},
          "execution_count": 52
        }
      ]
    },
    {
      "cell_type": "code",
      "source": [
        "# Last number\n",
        "v = u[-1]\n",
        "v"
      ],
      "metadata": {
        "colab": {
          "base_uri": "https://localhost:8080/"
        },
        "id": "t0hxrtvJ30Qk",
        "outputId": "a565d747-430c-4e5c-bb66-cfd4433a5387"
      },
      "execution_count": null,
      "outputs": [
        {
          "output_type": "execute_result",
          "data": {
            "text/plain": [
              "np.float64(10.0)"
            ]
          },
          "metadata": {},
          "execution_count": 53
        }
      ]
    },
    {
      "cell_type": "code",
      "source": [
        "# This indicates the numbers at position 2,3,4\n",
        "v = u[2:5]\n",
        "v"
      ],
      "metadata": {
        "colab": {
          "base_uri": "https://localhost:8080/"
        },
        "id": "sw7FDskb38-5",
        "outputId": "6a44b4ac-2c1e-418c-f5d0-39049efa390c"
      },
      "execution_count": null,
      "outputs": [
        {
          "output_type": "execute_result",
          "data": {
            "text/plain": [
              "array([3., 4., 5.])"
            ]
          },
          "metadata": {},
          "execution_count": 54
        }
      ]
    },
    {
      "cell_type": "code",
      "source": [
        "# This indicates numbers at position 2,3,4 and 5\n",
        "v = u[2:5+1]\n",
        "v\n"
      ],
      "metadata": {
        "colab": {
          "base_uri": "https://localhost:8080/"
        },
        "id": "zuVjccpt4Eq0",
        "outputId": "169906a1-e6a1-458b-f255-dc45b1d5342d"
      },
      "execution_count": null,
      "outputs": [
        {
          "output_type": "execute_result",
          "data": {
            "text/plain": [
              "array([3., 4., 5., 6.])"
            ]
          },
          "metadata": {},
          "execution_count": 55
        }
      ]
    },
    {
      "cell_type": "code",
      "source": [
        "# This means row 2, column 0\n",
        "v = A[2,0]\n",
        "v"
      ],
      "metadata": {
        "colab": {
          "base_uri": "https://localhost:8080/"
        },
        "id": "C7IzFV874T0m",
        "outputId": "c1f3238f-2efb-444e-fdc3-e5fb33a70f93"
      },
      "execution_count": null,
      "outputs": [
        {
          "output_type": "execute_result",
          "data": {
            "text/plain": [
              "np.int64(25)"
            ]
          },
          "metadata": {},
          "execution_count": 56
        }
      ]
    },
    {
      "cell_type": "code",
      "source": [
        "# This also means row 3, column 0\n",
        "v = A[2][0]\n",
        "v"
      ],
      "metadata": {
        "colab": {
          "base_uri": "https://localhost:8080/"
        },
        "id": "Of4BEjMw4kB0",
        "outputId": "8dbdc0dc-04ed-4c47-9bdb-47223180cc16"
      },
      "execution_count": null,
      "outputs": [
        {
          "output_type": "execute_result",
          "data": {
            "text/plain": [
              "np.int64(25)"
            ]
          },
          "metadata": {},
          "execution_count": 58
        }
      ]
    },
    {
      "cell_type": "code",
      "source": [
        "# The entire row 1\n",
        "v = A[1, :]\n",
        "v"
      ],
      "metadata": {
        "colab": {
          "base_uri": "https://localhost:8080/"
        },
        "id": "v_WhOwjH4sDn",
        "outputId": "6a2e91ff-90af-49b4-b2d3-997ba8e143d1"
      },
      "execution_count": null,
      "outputs": [
        {
          "output_type": "execute_result",
          "data": {
            "text/plain": [
              "array([26, 29, 34])"
            ]
          },
          "metadata": {},
          "execution_count": 60
        }
      ]
    },
    {
      "cell_type": "code",
      "source": [
        "# This is for row 1 and 2, and all the columns\n",
        "v = A[1:3, :]\n",
        "v"
      ],
      "metadata": {
        "colab": {
          "base_uri": "https://localhost:8080/"
        },
        "id": "TwfU-nTY4yeT",
        "outputId": "c682afef-5d17-461c-b6b3-ba2c2dff51bb"
      },
      "execution_count": null,
      "outputs": [
        {
          "output_type": "execute_result",
          "data": {
            "text/plain": [
              "array([[ 26,  29,  34],\n",
              "       [ 25,  64, 169]])"
            ]
          },
          "metadata": {},
          "execution_count": 61
        }
      ]
    },
    {
      "cell_type": "code",
      "source": [
        "# This is for row 1 and 2, columns 1 and 2\n",
        "v = A[1:3, 1:3]\n",
        "v"
      ],
      "metadata": {
        "colab": {
          "base_uri": "https://localhost:8080/"
        },
        "id": "eM347v-P48vm",
        "outputId": "14323391-256d-408a-ae27-7a6ef92bc83b"
      },
      "execution_count": null,
      "outputs": [
        {
          "output_type": "execute_result",
          "data": {
            "text/plain": [
              "array([[ 29,  34],\n",
              "       [ 64, 169]])"
            ]
          },
          "metadata": {},
          "execution_count": 63
        }
      ]
    },
    {
      "cell_type": "code",
      "source": [
        "# This means start at the 6th index, and end at the second to last , increase by 2\n",
        "v = u[6:-2:2]\n",
        "v"
      ],
      "metadata": {
        "colab": {
          "base_uri": "https://localhost:8080/"
        },
        "id": "9mxZFb-T5Hvf",
        "outputId": "8c859131-dd28-42ed-a043-dac8cf34e183"
      },
      "execution_count": null,
      "outputs": [
        {
          "output_type": "execute_result",
          "data": {
            "text/plain": [
              "array([7.])"
            ]
          },
          "metadata": {},
          "execution_count": 65
        }
      ]
    },
    {
      "cell_type": "code",
      "source": [
        "# Picks up the elements at positions 6, 4 and 2\n",
        "v = u[[6,4,2]]\n",
        "v"
      ],
      "metadata": {
        "colab": {
          "base_uri": "https://localhost:8080/"
        },
        "id": "5q8-7n9s5gMU",
        "outputId": "eff513d6-3e7a-4238-852b-48e0813bb591"
      },
      "execution_count": null,
      "outputs": [
        {
          "output_type": "execute_result",
          "data": {
            "text/plain": [
              "array([7., 5., 3.])"
            ]
          },
          "metadata": {},
          "execution_count": 66
        }
      ]
    }
  ]
}