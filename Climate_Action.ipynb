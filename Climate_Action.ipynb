{
  "nbformat": 4,
  "nbformat_minor": 0,
  "metadata": {
    "colab": {
      "provenance": [],
      "authorship_tag": "ABX9TyMkAanhrg31Q7uVXRaMDVGy",
      "include_colab_link": true
    },
    "kernelspec": {
      "name": "python3",
      "display_name": "Python 3"
    },
    "language_info": {
      "name": "python"
    }
  },
  "cells": [
    {
      "cell_type": "markdown",
      "metadata": {
        "id": "view-in-github",
        "colab_type": "text"
      },
      "source": [
        "<a href=\"https://colab.research.google.com/github/Jennifer-Kafui/climate-modeling/blob/main/Climate_Action.ipynb\" target=\"_parent\"><img src=\"https://colab.research.google.com/assets/colab-badge.svg\" alt=\"Open In Colab\"/></a>"
      ]
    },
    {
      "cell_type": "markdown",
      "source": [
        "Question 3 , Making computing mistakes"
      ],
      "metadata": {
        "id": "WaICPU9hpqW0"
      }
    },
    {
      "cell_type": "code",
      "source": [
        "#importing package(s) and create aliases"
      ],
      "metadata": {
        "id": "lSZFajVfpxAS"
      },
      "execution_count": null,
      "outputs": []
    }
  ]
}