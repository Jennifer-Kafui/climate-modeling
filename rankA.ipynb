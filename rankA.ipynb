{
  "nbformat": 4,
  "nbformat_minor": 0,
  "metadata": {
    "colab": {
      "provenance": [],
      "authorship_tag": "ABX9TyPW9GsMaEhzfYsEkff7+0cb",
      "include_colab_link": true
    },
    "kernelspec": {
      "name": "python3",
      "display_name": "Python 3"
    },
    "language_info": {
      "name": "python"
    }
  },
  "cells": [
    {
      "cell_type": "markdown",
      "metadata": {
        "id": "view-in-github",
        "colab_type": "text"
      },
      "source": [
        "<a href=\"https://colab.research.google.com/github/Jennifer-Kafui/climate-modeling/blob/main/rankA.ipynb\" target=\"_parent\"><img src=\"https://colab.research.google.com/assets/colab-badge.svg\" alt=\"Open In Colab\"/></a>"
      ]
    },
    {
      "cell_type": "code",
      "execution_count": 1,
      "metadata": {
        "colab": {
          "base_uri": "https://localhost:8080/"
        },
        "id": "77k2Z36d69ED",
        "outputId": "d91a08c0-7543-4247-ece2-3901f3617bf1"
      },
      "outputs": [
        {
          "output_type": "execute_result",
          "data": {
            "text/plain": [
              "array([[ 1.21275823,  0.05657453,  1.43709769,  1.97546295,  0.19128172],\n",
              "       [-3.76357844,  0.85255527,  0.21317351,  0.65820456, -1.67880253]])"
            ]
          },
          "metadata": {},
          "execution_count": 1
        }
      ],
      "source": [
        "import numpy as np\n",
        "\n",
        "m = 2 #number of rows of A\n",
        "n = 5 #number of coumns of A\n",
        "A = np.random.randn(m,n) # an m by n matrix of random numbers\n",
        "A"
      ]
    },
    {
      "cell_type": "code",
      "source": [
        "AtA = A.T @ A\n",
        "AtA"
      ],
      "metadata": {
        "colab": {
          "base_uri": "https://localhost:8080/"
        },
        "id": "EWYh48pH7dHc",
        "outputId": "ea5a32e5-216c-41f1-b647-814c3669bb19"
      },
      "execution_count": 2,
      "outputs": [
        {
          "output_type": "execute_result",
          "data": {
            "text/plain": [
              "array([[15.63530517, -3.1400474 ,  0.94055681, -0.08144557,  6.55028347],\n",
              "       [-3.1400474 ,  0.73005116,  0.26304532,  0.67291665, -1.42045027],\n",
              "       [ 0.94055681,  0.26304532,  2.11069271,  2.97924501, -0.08298572],\n",
              "       [-0.08144557,  0.67291665,  2.97924501,  4.3356871 , -0.72712554],\n",
              "       [ 6.55028347, -1.42045027, -0.08298572, -0.72712554,  2.85496662]])"
            ]
          },
          "metadata": {},
          "execution_count": 2
        }
      ]
    },
    {
      "cell_type": "code",
      "source": [
        "AAt = A @ A.T\n",
        "AAt"
      ],
      "metadata": {
        "colab": {
          "base_uri": "https://localhost:8080/"
        },
        "id": "Y9TJbgmR7eWU",
        "outputId": "7354f3a1-8497-4a7c-ce07-4813a2229d06"
      },
      "execution_count": 3,
      "outputs": [
        {
          "output_type": "execute_result",
          "data": {
            "text/plain": [
              "array([[ 7.4782755 , -3.23059214],\n",
              "       [-3.23059214, 18.18842726]])"
            ]
          },
          "metadata": {},
          "execution_count": 3
        }
      ]
    },
    {
      "cell_type": "code",
      "source": [
        "sizeA = A.shape\n",
        "sizeA"
      ],
      "metadata": {
        "colab": {
          "base_uri": "https://localhost:8080/"
        },
        "id": "zIbKoHYS8ubF",
        "outputId": "195a01ce-d468-4cf0-9309-335c63c4b944"
      },
      "execution_count": 4,
      "outputs": [
        {
          "output_type": "execute_result",
          "data": {
            "text/plain": [
              "(2, 5)"
            ]
          },
          "metadata": {},
          "execution_count": 4
        }
      ]
    },
    {
      "cell_type": "code",
      "source": [
        "rankA = np.linalg.matrix_rank (A)\n",
        "rankA"
      ],
      "metadata": {
        "colab": {
          "base_uri": "https://localhost:8080/"
        },
        "id": "FRt1G3KE81jU",
        "outputId": "b8593f39-f595-42e7-d8dd-2d510f1adbb2"
      },
      "execution_count": 5,
      "outputs": [
        {
          "output_type": "execute_result",
          "data": {
            "text/plain": [
              "np.int64(2)"
            ]
          },
          "metadata": {},
          "execution_count": 5
        }
      ]
    },
    {
      "cell_type": "code",
      "source": [
        "sizeAtA = AtA.shape\n",
        "sizeAtA"
      ],
      "metadata": {
        "colab": {
          "base_uri": "https://localhost:8080/"
        },
        "id": "m6Pui56F7kzW",
        "outputId": "4ce5fda1-b847-45fb-f90d-c103db88124d"
      },
      "execution_count": 6,
      "outputs": [
        {
          "output_type": "execute_result",
          "data": {
            "text/plain": [
              "(5, 5)"
            ]
          },
          "metadata": {},
          "execution_count": 6
        }
      ]
    },
    {
      "cell_type": "code",
      "source": [
        "rankAtA = np.linalg.matrix_rank (AtA)\n",
        "rankAtA"
      ],
      "metadata": {
        "colab": {
          "base_uri": "https://localhost:8080/"
        },
        "id": "N75X4bwf9FS4",
        "outputId": "f996dd76-9323-4f12-ff6d-1abd3e579f59"
      },
      "execution_count": 7,
      "outputs": [
        {
          "output_type": "execute_result",
          "data": {
            "text/plain": [
              "np.int64(2)"
            ]
          },
          "metadata": {},
          "execution_count": 7
        }
      ]
    },
    {
      "cell_type": "code",
      "source": [
        "sizeAAt = AAt.shape\n",
        "sizeAAt"
      ],
      "metadata": {
        "colab": {
          "base_uri": "https://localhost:8080/"
        },
        "id": "ioDFLFb58dpX",
        "outputId": "f0b1dbad-1b79-42a2-edb2-0c0d7cff584d"
      },
      "execution_count": 8,
      "outputs": [
        {
          "output_type": "execute_result",
          "data": {
            "text/plain": [
              "(2, 2)"
            ]
          },
          "metadata": {},
          "execution_count": 8
        }
      ]
    },
    {
      "cell_type": "code",
      "source": [
        "rankAAt = np.linalg.matrix_rank (AAt)\n",
        "rankAAt"
      ],
      "metadata": {
        "colab": {
          "base_uri": "https://localhost:8080/"
        },
        "id": "wrpYCUE88jO6",
        "outputId": "6346bf8d-2ecc-4935-c384-c86d3a8be9e3"
      },
      "execution_count": 9,
      "outputs": [
        {
          "output_type": "execute_result",
          "data": {
            "text/plain": [
              "np.int64(2)"
            ]
          },
          "metadata": {},
          "execution_count": 9
        }
      ]
    },
    {
      "cell_type": "code",
      "source": [
        "print (\" size (A ) = \" , sizeA )\n",
        "print (\" rank (A ) = \" , rankA )\n",
        "print (\" size ( AtA ) =\" , sizeAtA )\n",
        "print (\" rank ( AtA ) =\" , rankAtA )\n",
        "print (\" size ( AAt ) =\" , sizeAAt )\n",
        "print (\" rank ( AAt ) =\" , rankAAt )"
      ],
      "metadata": {
        "colab": {
          "base_uri": "https://localhost:8080/"
        },
        "id": "RWz892Vd9Q64",
        "outputId": "16807c14-fced-4b5b-dd2e-bfdcb40a6387"
      },
      "execution_count": 10,
      "outputs": [
        {
          "output_type": "stream",
          "name": "stdout",
          "text": [
            " size (A ) =  (2, 5)\n",
            " rank (A ) =  2\n",
            " size ( AtA ) = (5, 5)\n",
            " rank ( AtA ) = 2\n",
            " size ( AAt ) = (2, 2)\n",
            " rank ( AAt ) = 2\n"
          ]
        }
      ]
    },
    {
      "cell_type": "markdown",
      "source": [
        "When I try different matrix sizes, the rank is never bigger than the smaller of m or n, which makes sense because you can not get more independent rows or columns than what you actually have.\n",
        "\n",
        "For m = 2, the rank of AAt,  AAt is 1 if the two rows in A are basically the same line, just multiples of each other."
      ],
      "metadata": {
        "id": "D14q5BE6GfpE"
      }
    }
  ]
}