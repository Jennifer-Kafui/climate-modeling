{
  "nbformat": 4,
  "nbformat_minor": 0,
  "metadata": {
    "colab": {
      "provenance": [],
      "authorship_tag": "ABX9TyMVGOYiTcq21pptpwX64rIf",
      "include_colab_link": true
    },
    "kernelspec": {
      "name": "python3",
      "display_name": "Python 3"
    },
    "language_info": {
      "name": "python"
    }
  },
  "cells": [
    {
      "cell_type": "markdown",
      "metadata": {
        "id": "view-in-github",
        "colab_type": "text"
      },
      "source": [
        "<a href=\"https://colab.research.google.com/github/Jennifer-Kafui/climate-modeling/blob/main/fibo.ipynb\" target=\"_parent\"><img src=\"https://colab.research.google.com/assets/colab-badge.svg\" alt=\"Open In Colab\"/></a>"
      ]
    },
    {
      "cell_type": "code",
      "execution_count": 1,
      "metadata": {
        "id": "04-JUEznOZuP"
      },
      "outputs": [],
      "source": [
        "# Purpose of the Module: Generate and plot the Fibonacci sequence and show convergence to the golden ratio\n",
        "# Jennifer Kafui Ama Kornu"
      ]
    },
    {
      "cell_type": "code",
      "source": [
        "import numpy as np\n",
        "import matplotlib.pyplot as plt"
      ],
      "metadata": {
        "id": "7FTSUx_iO6Wg"
      },
      "execution_count": 2,
      "outputs": []
    },
    {
      "cell_type": "code",
      "source": [
        "def seqnce (N):\n",
        "#returns a Fibonacci sequence of any length N. N greater than 1\n",
        "  F = np.zeros(N)\n",
        "  F[0] = 1\n",
        "  F[1] = 1\n",
        "  for i in range(2,N):\n",
        "    F[i] = F[i-1] + F[i-2]\n",
        "\n",
        "  j = np.arrange (1, N+1)\n",
        "  return j, F"
      ],
      "metadata": {
        "id": "0UI8M33DPRXb"
      },
      "execution_count": 3,
      "outputs": []
    },
    {
      "cell_type": "code",
      "source": [
        "def plot (N):\n",
        "  j,F = seqnce (N)\n",
        "  ratio = F[:-1] / F[1:]\n",
        "\n",
        "  plt.figure(figsize=(8,4))\n",
        "\n",
        "\n",
        "  #Plot for Fibonacci sequence\n",
        "  plt.subplot(1,2,1)\n",
        "  plt.plot (j,F)\n",
        "  plt.title(\"Fibonacci Numbers\")\n",
        "  plt.xlabel(\"Index j\")\n",
        "  plt.ylabel(\"Fj\")\n",
        "\n",
        "  # Plot for Golden Ratio\n",
        "  plt.subplot(1,2,2)\n",
        "  plt.plot(j[:-1],ratio)\n",
        "  plt.title(\"Golden Ratio\")\n",
        "  plt.xlabel(\"Index j\")\n",
        "  plt.ylabel(\"Fj/Fj+1\")\n",
        "  plt.legend()\n",
        "\n",
        "\n",
        "  plt.tight_layout()\n",
        "  plt.show()"
      ],
      "metadata": {
        "id": "YCo9b-G3R7By"
      },
      "execution_count": 9,
      "outputs": []
    }
  ]
}